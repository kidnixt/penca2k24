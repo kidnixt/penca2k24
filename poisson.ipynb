{
 "cells": [
  {
   "cell_type": "code",
   "execution_count": 297,
   "metadata": {},
   "outputs": [],
   "source": [
    "import pickle\n",
    "import pandas as pd\n",
    "import numpy as np\n",
    "import matplotlib.pyplot as plt\n",
    "import seaborn as sns\n",
    "from tensorflow.keras.models import load_model\n",
    "from sklearn.preprocessing import StandardScaler\n",
    "\n",
    "\n"
   ]
  },
  {
   "cell_type": "code",
   "execution_count": 298,
   "metadata": {},
   "outputs": [],
   "source": [
    "with open('models/gb_home.pkl', 'rb') as f:\n",
    "    home_md = pickle.load(f)\n",
    "\n",
    "with open('models/gb_away.pkl', 'rb') as f:\n",
    "    away_md = pickle.load(f)"
   ]
  },
  {
   "cell_type": "code",
   "execution_count": 262,
   "metadata": {},
   "outputs": [
    {
     "name": "stderr",
     "output_type": "stream",
     "text": [
      "WARNING:absl:Compiled the loaded model, but the compiled metrics have yet to be built. `model.compile_metrics` will be empty until you train or evaluate the model.\n",
      "WARNING:absl:Compiled the loaded model, but the compiled metrics have yet to be built. `model.compile_metrics` will be empty until you train or evaluate the model.\n"
     ]
    }
   ],
   "source": [
    "model_home = load_model('./models/model_home_nn.h5')\n",
    "\n",
    "model_away = load_model('./models/model_away_nn.h5')"
   ]
  },
  {
   "cell_type": "code",
   "execution_count": 299,
   "metadata": {},
   "outputs": [],
   "source": [
    "teams_data = pd.read_csv(\"datasets/created/new_model.csv\")\n"
   ]
  },
  {
   "cell_type": "code",
   "execution_count": 300,
   "metadata": {},
   "outputs": [
    {
     "data": {
      "text/plain": [
       "home_team\n",
       "Mexico           151\n",
       "United States    138\n",
       "Argentina        124\n",
       "Brazil           114\n",
       "Colombia         103\n",
       "Peru             101\n",
       "Chile             97\n",
       "Venezuela         94\n",
       "Ecuador           90\n",
       "Uruguay           83\n",
       "Bolivia           79\n",
       "Paraguay          75\n",
       "Costa Rica        67\n",
       "Panama            58\n",
       "Jamaica           49\n",
       "Canada            29\n",
       "Name: count, dtype: int64"
      ]
     },
     "execution_count": 300,
     "metadata": {},
     "output_type": "execute_result"
    }
   ],
   "source": [
    "teams_data['home_team'].value_counts()"
   ]
  },
  {
   "cell_type": "code",
   "execution_count": 301,
   "metadata": {},
   "outputs": [],
   "source": [
    "def find_team_features(home, away):\n",
    "    home_infos = teams_data[(teams_data.home_team == home) | (teams_data.away_team == home)].tail(1)\n",
    "    if home_infos.home_team.values[0] == home:\n",
    "        home_away_goal_suf_mean = home_infos[\"away_goal_suf_mean\"].values[0]\n",
    "        home_away_goals_mean = home_infos[\"away_goals_mean\"].values[0]\n",
    "        home_home_goals_mean = home_infos[\"home_goals_mean\"].values[0]\n",
    "        home_home_goal_suf_mean = home_infos[\"home_goals_suf_mean\"].values[0]\n",
    "        home_rank = home_infos[\"rank_home\"].values[0]\n",
    "    else:\n",
    "        home_away_goal_suf_mean = home_infos[\"home_goals_suf_mean\"].values[0]\n",
    "        home_away_goals_mean = home_infos[\"home_goals_mean\"].values[0]\n",
    "        home_home_goals_mean = home_infos[\"away_goals_mean\"].values[0]\n",
    "        home_home_goal_suf_mean = home_infos[\"away_goals_suf_mean\"].values[0]\n",
    "        home_rank = home_infos[\"rank_away\"].values[0]\n",
    "        \n",
    "    \n",
    "    away_infos = teams_data[(teams_data.home_team == away) | (teams_data.away_team == away)].tail(1)\n",
    "    if away_infos.home_team.values[0] == away:\n",
    "        away_away_goals_mean = away_infos[\"away_goals_mean\"].values[0]\n",
    "        away_away_goals_suf_mean = away_infos[\"away_goals_suf_mean\"].values[0]\n",
    "        away_home_goals_suf_mean = away_infos[\"home_goals_suf_mean\"].values[0]\n",
    "        away_home_goals_mean = away_infos[\"home_goals_mean\"].values[0]\n",
    "        away_rank = away_infos[\"rank_home\"].values[0]\n",
    "    else:\n",
    "        away_away_goals_mean = away_infos[\"home_goals_mean\"].values[0]\n",
    "        away_away_goals_suf_mean = away_infos[\"home_goals_suf_mean\"].values[0]\n",
    "        away_home_goals_suf_mean = away_infos[\"away_goals_suf_mean\"].values[0]\n",
    "        away_home_goals_mean = away_infos[\"away_goals_mean\"].values[0]\n",
    "        away_rank = away_infos[\"rank_away\"].values[0]\n",
    "\n",
    "    #print(home_rank, away_rank)\n",
    "    rank_dif = home_rank - away_rank\n",
    "    ht_features = [\n",
    "        home_away_goal_suf_mean*rank_dif,\n",
    "        home_away_goals_mean*rank_dif,\n",
    "        home_home_goals_mean*rank_dif,\n",
    "        home_home_goal_suf_mean*rank_dif\n",
    "    ]\n",
    "    \n",
    "    at_features = [\n",
    "        away_away_goals_mean*rank_dif,\n",
    "        away_away_goals_suf_mean*rank_dif,\n",
    "        away_home_goals_suf_mean*rank_dif,\n",
    "        away_home_goals_mean*rank_dif\n",
    "    ]\n",
    "    return ht_features, at_features"
   ]
  },
  {
   "cell_type": "code",
   "execution_count": 302,
   "metadata": {},
   "outputs": [],
   "source": [
    "with open('models/scaler_away.pkl', 'rb') as f:\n",
    "    scaler_away = pickle.load(f)"
   ]
  },
  {
   "cell_type": "code",
   "execution_count": 303,
   "metadata": {},
   "outputs": [],
   "source": [
    "argentina, canada = find_team_features(\"Uruguay\", \"Argentina\")"
   ]
  },
  {
   "cell_type": "code",
   "execution_count": 304,
   "metadata": {},
   "outputs": [],
   "source": [
    "xg_argentina = home_md.predict([argentina])\n",
    "xg_canada = away_md.predict([canada])\n"
   ]
  },
  {
   "cell_type": "code",
   "execution_count": 280,
   "metadata": {},
   "outputs": [
    {
     "name": "stderr",
     "output_type": "stream",
     "text": [
      "/home/yoni/.local/lib/python3.10/site-packages/sklearn/base.py:464: UserWarning: X does not have valid feature names, but StandardScaler was fitted with feature names\n",
      "  warnings.warn(\n"
     ]
    },
    {
     "name": "stdout",
     "output_type": "stream",
     "text": [
      "\u001b[1m1/1\u001b[0m \u001b[32m━━━━━━━━━━━━━━━━━━━━\u001b[0m\u001b[37m\u001b[0m \u001b[1m1s\u001b[0m 576ms/step\n"
     ]
    }
   ],
   "source": [
    "argentina_array = np.array([argentina])\n",
    "argentina_array_scaled = scaler_away.transform(argentina_array)\n",
    "\n",
    "xg_argentina = model_home.predict(argentina_array_scaled)"
   ]
  },
  {
   "cell_type": "code",
   "execution_count": 281,
   "metadata": {},
   "outputs": [
    {
     "name": "stderr",
     "output_type": "stream",
     "text": [
      "/home/yoni/.local/lib/python3.10/site-packages/sklearn/base.py:464: UserWarning: X does not have valid feature names, but StandardScaler was fitted with feature names\n",
      "  warnings.warn(\n"
     ]
    },
    {
     "name": "stdout",
     "output_type": "stream",
     "text": [
      "\u001b[1m1/1\u001b[0m \u001b[32m━━━━━━━━━━━━━━━━━━━━\u001b[0m\u001b[37m\u001b[0m \u001b[1m0s\u001b[0m 436ms/step\n"
     ]
    }
   ],
   "source": [
    "canada_array = np.array([canada])\n",
    "canada_array_scaled = scaler_away.transform(canada_array)\n",
    "xg_canada = model_away.predict(canada_array_scaled)\n"
   ]
  },
  {
   "cell_type": "code",
   "execution_count": 320,
   "metadata": {},
   "outputs": [
    {
     "name": "stdout",
     "output_type": "stream",
     "text": [
      "[0.26847415 0.35304368 0.23212633 0.10174876 0.03344992]\n"
     ]
    }
   ],
   "source": [
    "from scipy.stats import poisson\n",
    "poisson_probs_argentina = poisson.pmf(np.arange(0, 5), xg_argentina)\n",
    "poisson_probs_canada = poisson.pmf(np.arange(0, 5), xg_canada)\n",
    "\n",
    "#poisson_probs_argentina = poisson_probs_argentina.flatten()\n",
    "#poisson_probs_canada = poisson_probs_canada.flatten()\n",
    "\n",
    "print(poisson_probs_argentina)"
   ]
  },
  {
   "cell_type": "code",
   "execution_count": 321,
   "metadata": {},
   "outputs": [
    {
     "name": "stdout",
     "output_type": "stream",
     "text": [
      "[0.02874093 0.10201401 0.18104595 0.21420349 0.19007523]\n"
     ]
    }
   ],
   "source": [
    "print(poisson_probs_canada)"
   ]
  },
  {
   "cell_type": "code",
   "execution_count": 322,
   "metadata": {},
   "outputs": [],
   "source": [
    "def plot_poisson(x, poisson_probs, team):\n",
    "    plt.figure(figsize=(10, 6))\n",
    "    plt.bar(x, poisson_probs, alpha=0.6, color='blue')\n",
    "    plt.plot(x, poisson_probs, 'bo', ms=8)\n",
    "    plt.title(f'Poisson Distribution - {team}')\n",
    "    plt.xlabel('Number of Events')\n",
    "    plt.ylabel('Probability')\n",
    "    plt.grid(True)\n",
    "    plt.show()"
   ]
  },
  {
   "cell_type": "code",
   "execution_count": 324,
   "metadata": {},
   "outputs": [
    {
     "data": {
      "image/png": "[encoded data removed]",
      "text/plain": [
       "<Figure size 1000x600 with 1 Axes>"
      ]
     },
     "metadata": {},
     "output_type": "display_data"
    }
   ],
   "source": [
    "plot_poisson(np.arange(0,5), poisson_probs_argentina, \"Argentina\")\n"
   ]
  },
  {
   "cell_type": "code",
   "execution_count": 325,
   "metadata": {},
   "outputs": [
    {
     "data": {
      "image/png": "[encoded data removed]",
      "text/plain": [
       "<Figure size 1000x600 with 1 Axes>"
      ]
     },
     "metadata": {},
     "output_type": "display_data"
    }
   ],
   "source": [
    "plot_poisson(np.arange(0,5), poisson_probs_canada, \"Canada\")\n"
   ]
  },
  {
   "cell_type": "code",
   "execution_count": 326,
   "metadata": {},
   "outputs": [],
   "source": [
    "res_track = np.zeros((10,10))\n",
    "\n",
    "for i in range(len(poisson_probs_argentina)):\n",
    "    for j in range(len(poisson_probs_canada)):\n",
    "        res_prob = poisson_probs_argentina[i]*poisson_probs_canada[j]\n",
    "        res_track[j][i] = res_prob"
   ]
  },
  {
   "cell_type": "code",
   "execution_count": 327,
   "metadata": {},
   "outputs": [
    {
     "data": {
      "text/plain": [
       "array([0.26847415, 0.35304368, 0.23212633, 0.10174876, 0.03344992])"
      ]
     },
     "execution_count": 327,
     "metadata": {},
     "output_type": "execute_result"
    }
   ],
   "source": [
    "poisson_probs_argentina\n"
   ]
  },
  {
   "cell_type": "code",
   "execution_count": 328,
   "metadata": {},
   "outputs": [
    {
     "data": {
      "text/plain": [
       "array([0.02874093, 0.10201401, 0.18104595, 0.21420349, 0.19007523])"
      ]
     },
     "execution_count": 328,
     "metadata": {},
     "output_type": "execute_result"
    }
   ],
   "source": [
    "poisson_probs_canada\n"
   ]
  },
  {
   "cell_type": "code",
   "execution_count": 329,
   "metadata": {},
   "outputs": [],
   "source": [
    "res_df = pd.DataFrame(res_track)\n"
   ]
  },
  {
   "cell_type": "code",
   "execution_count": 330,
   "metadata": {},
   "outputs": [],
   "source": [
    "res_df.columns = [\"Uruguay \" + str(a) for a in res_df.columns] \n",
    "res_df.index = [\"Argentina \" + str(a) for a in res_df.index] "
   ]
  },
  {
   "cell_type": "code",
   "execution_count": 331,
   "metadata": {},
   "outputs": [],
   "source": [
    "def style_specific_cells(x):\n",
    "    color = ''\n",
    "    \n",
    "    df_styled = pd.DataFrame('', index=x.index, columns=x.columns)\n",
    "    for i in range(x.shape[0]):\n",
    "        for j in range(x.shape[1]):\n",
    "            if i == j:\n",
    "                color = 'background-color: yellow'\n",
    "            elif j > i:\n",
    "                color = 'background-color: lightgreen'\n",
    "            else:\n",
    "                color = 'background-color: lightcoral'\n",
    "            df_styled.iloc[i, j] = color\n",
    "    return df_styled"
   ]
  },
  {
   "cell_type": "code",
   "execution_count": 332,
   "metadata": {},
   "outputs": [
    {
     "data": {
      "text/html": [
       "<style type=\"text/css\">\n",
       "#T_e63d3_row0_col0, #T_e63d3_row1_col1, #T_e63d3_row2_col2, #T_e63d3_row3_col3, #T_e63d3_row4_col4, #T_e63d3_row5_col5, #T_e63d3_row6_col6, #T_e63d3_row7_col7, #T_e63d3_row8_col8, #T_e63d3_row9_col9 {\n",
       "  background-color: yellow;\n",
       "}\n",
       "#T_e63d3_row0_col1, #T_e63d3_row0_col2, #T_e63d3_row0_col3, #T_e63d3_row0_col4, #T_e63d3_row0_col5, #T_e63d3_row0_col6, #T_e63d3_row0_col7, #T_e63d3_row0_col8, #T_e63d3_row0_col9, #T_e63d3_row1_col2, #T_e63d3_row1_col3, #T_e63d3_row1_col4, #T_e63d3_row1_col5, #T_e63d3_row1_col6, #T_e63d3_row1_col7, #T_e63d3_row1_col8, #T_e63d3_row1_col9, #T_e63d3_row2_col3, #T_e63d3_row2_col4, #T_e63d3_row2_col5, #T_e63d3_row2_col6, #T_e63d3_row2_col7, #T_e63d3_row2_col8, #T_e63d3_row2_col9, #T_e63d3_row3_col4, #T_e63d3_row3_col5, #T_e63d3_row3_col6, #T_e63d3_row3_col7, #T_e63d3_row3_col8, #T_e63d3_row3_col9, #T_e63d3_row4_col5, #T_e63d3_row4_col6, #T_e63d3_row4_col7, #T_e63d3_row4_col8, #T_e63d3_row4_col9, #T_e63d3_row5_col6, #T_e63d3_row5_col7, #T_e63d3_row5_col8, #T_e63d3_row5_col9, #T_e63d3_row6_col7, #T_e63d3_row6_col8, #T_e63d3_row6_col9, #T_e63d3_row7_col8, #T_e63d3_row7_col9, #T_e63d3_row8_col9 {\n",
       "  background-color: lightgreen;\n",
       "}\n",
       "#T_e63d3_row1_col0, #T_e63d3_row2_col0, #T_e63d3_row2_col1, #T_e63d3_row3_col0, #T_e63d3_row3_col1, #T_e63d3_row3_col2, #T_e63d3_row4_col0, #T_e63d3_row4_col1, #T_e63d3_row4_col2, #T_e63d3_row4_col3, #T_e63d3_row5_col0, #T_e63d3_row5_col1, #T_e63d3_row5_col2, #T_e63d3_row5_col3, #T_e63d3_row5_col4, #T_e63d3_row6_col0, #T_e63d3_row6_col1, #T_e63d3_row6_col2, #T_e63d3_row6_col3, #T_e63d3_row6_col4, #T_e63d3_row6_col5, #T_e63d3_row7_col0, #T_e63d3_row7_col1, #T_e63d3_row7_col2, #T_e63d3_row7_col3, #T_e63d3_row7_col4, #T_e63d3_row7_col5, #T_e63d3_row7_col6, #T_e63d3_row8_col0, #T_e63d3_row8_col1, #T_e63d3_row8_col2, #T_e63d3_row8_col3, #T_e63d3_row8_col4, #T_e63d3_row8_col5, #T_e63d3_row8_col6, #T_e63d3_row8_col7, #T_e63d3_row9_col0, #T_e63d3_row9_col1, #T_e63d3_row9_col2, #T_e63d3_row9_col3, #T_e63d3_row9_col4, #T_e63d3_row9_col5, #T_e63d3_row9_col6, #T_e63d3_row9_col7, #T_e63d3_row9_col8 {\n",
       "  background-color: lightcoral;\n",
       "}\n",
       "</style>\n",
       "<table id=\"T_e63d3\">\n",
       "  <thead>\n",
       "    <tr>\n",
       "      <th class=\"blank level0\" >&nbsp;</th>\n",
       "      <th id=\"T_e63d3_level0_col0\" class=\"col_heading level0 col0\" >Uruguay 0</th>\n",
       "      <th id=\"T_e63d3_level0_col1\" class=\"col_heading level0 col1\" >Uruguay 1</th>\n",
       "      <th id=\"T_e63d3_level0_col2\" class=\"col_heading level0 col2\" >Uruguay 2</th>\n",
       "      <th id=\"T_e63d3_level0_col3\" class=\"col_heading level0 col3\" >Uruguay 3</th>\n",
       "      <th id=\"T_e63d3_level0_col4\" class=\"col_heading level0 col4\" >Uruguay 4</th>\n",
       "      <th id=\"T_e63d3_level0_col5\" class=\"col_heading level0 col5\" >Uruguay 5</th>\n",
       "      <th id=\"T_e63d3_level0_col6\" class=\"col_heading level0 col6\" >Uruguay 6</th>\n",
       "      <th id=\"T_e63d3_level0_col7\" class=\"col_heading level0 col7\" >Uruguay 7</th>\n",
       "      <th id=\"T_e63d3_level0_col8\" class=\"col_heading level0 col8\" >Uruguay 8</th>\n",
       "      <th id=\"T_e63d3_level0_col9\" class=\"col_heading level0 col9\" >Uruguay 9</th>\n",
       "    </tr>\n",
       "  </thead>\n",
       "  <tbody>\n",
       "    <tr>\n",
       "      <th id=\"T_e63d3_level0_row0\" class=\"row_heading level0 row0\" >Argentina 0</th>\n",
       "      <td id=\"T_e63d3_row0_col0\" class=\"data row0 col0\" >0.77%</td>\n",
       "      <td id=\"T_e63d3_row0_col1\" class=\"data row0 col1\" >1.01%</td>\n",
       "      <td id=\"T_e63d3_row0_col2\" class=\"data row0 col2\" >0.67%</td>\n",
       "      <td id=\"T_e63d3_row0_col3\" class=\"data row0 col3\" >0.29%</td>\n",
       "      <td id=\"T_e63d3_row0_col4\" class=\"data row0 col4\" >0.10%</td>\n",
       "      <td id=\"T_e63d3_row0_col5\" class=\"data row0 col5\" >0.00%</td>\n",
       "      <td id=\"T_e63d3_row0_col6\" class=\"data row0 col6\" >0.00%</td>\n",
       "      <td id=\"T_e63d3_row0_col7\" class=\"data row0 col7\" >0.00%</td>\n",
       "      <td id=\"T_e63d3_row0_col8\" class=\"data row0 col8\" >0.00%</td>\n",
       "      <td id=\"T_e63d3_row0_col9\" class=\"data row0 col9\" >0.00%</td>\n",
       "    </tr>\n",
       "    <tr>\n",
       "      <th id=\"T_e63d3_level0_row1\" class=\"row_heading level0 row1\" >Argentina 1</th>\n",
       "      <td id=\"T_e63d3_row1_col0\" class=\"data row1 col0\" >2.74%</td>\n",
       "      <td id=\"T_e63d3_row1_col1\" class=\"data row1 col1\" >3.60%</td>\n",
       "      <td id=\"T_e63d3_row1_col2\" class=\"data row1 col2\" >2.37%</td>\n",
       "      <td id=\"T_e63d3_row1_col3\" class=\"data row1 col3\" >1.04%</td>\n",
       "      <td id=\"T_e63d3_row1_col4\" class=\"data row1 col4\" >0.34%</td>\n",
       "      <td id=\"T_e63d3_row1_col5\" class=\"data row1 col5\" >0.00%</td>\n",
       "      <td id=\"T_e63d3_row1_col6\" class=\"data row1 col6\" >0.00%</td>\n",
       "      <td id=\"T_e63d3_row1_col7\" class=\"data row1 col7\" >0.00%</td>\n",
       "      <td id=\"T_e63d3_row1_col8\" class=\"data row1 col8\" >0.00%</td>\n",
       "      <td id=\"T_e63d3_row1_col9\" class=\"data row1 col9\" >0.00%</td>\n",
       "    </tr>\n",
       "    <tr>\n",
       "      <th id=\"T_e63d3_level0_row2\" class=\"row_heading level0 row2\" >Argentina 2</th>\n",
       "      <td id=\"T_e63d3_row2_col0\" class=\"data row2 col0\" >4.86%</td>\n",
       "      <td id=\"T_e63d3_row2_col1\" class=\"data row2 col1\" >6.39%</td>\n",
       "      <td id=\"T_e63d3_row2_col2\" class=\"data row2 col2\" >4.20%</td>\n",
       "      <td id=\"T_e63d3_row2_col3\" class=\"data row2 col3\" >1.84%</td>\n",
       "      <td id=\"T_e63d3_row2_col4\" class=\"data row2 col4\" >0.61%</td>\n",
       "      <td id=\"T_e63d3_row2_col5\" class=\"data row2 col5\" >0.00%</td>\n",
       "      <td id=\"T_e63d3_row2_col6\" class=\"data row2 col6\" >0.00%</td>\n",
       "      <td id=\"T_e63d3_row2_col7\" class=\"data row2 col7\" >0.00%</td>\n",
       "      <td id=\"T_e63d3_row2_col8\" class=\"data row2 col8\" >0.00%</td>\n",
       "      <td id=\"T_e63d3_row2_col9\" class=\"data row2 col9\" >0.00%</td>\n",
       "    </tr>\n",
       "    <tr>\n",
       "      <th id=\"T_e63d3_level0_row3\" class=\"row_heading level0 row3\" >Argentina 3</th>\n",
       "      <td id=\"T_e63d3_row3_col0\" class=\"data row3 col0\" >5.75%</td>\n",
       "      <td id=\"T_e63d3_row3_col1\" class=\"data row3 col1\" >7.56%</td>\n",
       "      <td id=\"T_e63d3_row3_col2\" class=\"data row3 col2\" >4.97%</td>\n",
       "      <td id=\"T_e63d3_row3_col3\" class=\"data row3 col3\" >2.18%</td>\n",
       "      <td id=\"T_e63d3_row3_col4\" class=\"data row3 col4\" >0.72%</td>\n",
       "      <td id=\"T_e63d3_row3_col5\" class=\"data row3 col5\" >0.00%</td>\n",
       "      <td id=\"T_e63d3_row3_col6\" class=\"data row3 col6\" >0.00%</td>\n",
       "      <td id=\"T_e63d3_row3_col7\" class=\"data row3 col7\" >0.00%</td>\n",
       "      <td id=\"T_e63d3_row3_col8\" class=\"data row3 col8\" >0.00%</td>\n",
       "      <td id=\"T_e63d3_row3_col9\" class=\"data row3 col9\" >0.00%</td>\n",
       "    </tr>\n",
       "    <tr>\n",
       "      <th id=\"T_e63d3_level0_row4\" class=\"row_heading level0 row4\" >Argentina 4</th>\n",
       "      <td id=\"T_e63d3_row4_col0\" class=\"data row4 col0\" >5.10%</td>\n",
       "      <td id=\"T_e63d3_row4_col1\" class=\"data row4 col1\" >6.71%</td>\n",
       "      <td id=\"T_e63d3_row4_col2\" class=\"data row4 col2\" >4.41%</td>\n",
       "      <td id=\"T_e63d3_row4_col3\" class=\"data row4 col3\" >1.93%</td>\n",
       "      <td id=\"T_e63d3_row4_col4\" class=\"data row4 col4\" >0.64%</td>\n",
       "      <td id=\"T_e63d3_row4_col5\" class=\"data row4 col5\" >0.00%</td>\n",
       "      <td id=\"T_e63d3_row4_col6\" class=\"data row4 col6\" >0.00%</td>\n",
       "      <td id=\"T_e63d3_row4_col7\" class=\"data row4 col7\" >0.00%</td>\n",
       "      <td id=\"T_e63d3_row4_col8\" class=\"data row4 col8\" >0.00%</td>\n",
       "      <td id=\"T_e63d3_row4_col9\" class=\"data row4 col9\" >0.00%</td>\n",
       "    </tr>\n",
       "    <tr>\n",
       "      <th id=\"T_e63d3_level0_row5\" class=\"row_heading level0 row5\" >Argentina 5</th>\n",
       "      <td id=\"T_e63d3_row5_col0\" class=\"data row5 col0\" >0.00%</td>\n",
       "      <td id=\"T_e63d3_row5_col1\" class=\"data row5 col1\" >0.00%</td>\n",
       "      <td id=\"T_e63d3_row5_col2\" class=\"data row5 col2\" >0.00%</td>\n",
       "      <td id=\"T_e63d3_row5_col3\" class=\"data row5 col3\" >0.00%</td>\n",
       "      <td id=\"T_e63d3_row5_col4\" class=\"data row5 col4\" >0.00%</td>\n",
       "      <td id=\"T_e63d3_row5_col5\" class=\"data row5 col5\" >0.00%</td>\n",
       "      <td id=\"T_e63d3_row5_col6\" class=\"data row5 col6\" >0.00%</td>\n",
       "      <td id=\"T_e63d3_row5_col7\" class=\"data row5 col7\" >0.00%</td>\n",
       "      <td id=\"T_e63d3_row5_col8\" class=\"data row5 col8\" >0.00%</td>\n",
       "      <td id=\"T_e63d3_row5_col9\" class=\"data row5 col9\" >0.00%</td>\n",
       "    </tr>\n",
       "    <tr>\n",
       "      <th id=\"T_e63d3_level0_row6\" class=\"row_heading level0 row6\" >Argentina 6</th>\n",
       "      <td id=\"T_e63d3_row6_col0\" class=\"data row6 col0\" >0.00%</td>\n",
       "      <td id=\"T_e63d3_row6_col1\" class=\"data row6 col1\" >0.00%</td>\n",
       "      <td id=\"T_e63d3_row6_col2\" class=\"data row6 col2\" >0.00%</td>\n",
       "      <td id=\"T_e63d3_row6_col3\" class=\"data row6 col3\" >0.00%</td>\n",
       "      <td id=\"T_e63d3_row6_col4\" class=\"data row6 col4\" >0.00%</td>\n",
       "      <td id=\"T_e63d3_row6_col5\" class=\"data row6 col5\" >0.00%</td>\n",
       "      <td id=\"T_e63d3_row6_col6\" class=\"data row6 col6\" >0.00%</td>\n",
       "      <td id=\"T_e63d3_row6_col7\" class=\"data row6 col7\" >0.00%</td>\n",
       "      <td id=\"T_e63d3_row6_col8\" class=\"data row6 col8\" >0.00%</td>\n",
       "      <td id=\"T_e63d3_row6_col9\" class=\"data row6 col9\" >0.00%</td>\n",
       "    </tr>\n",
       "    <tr>\n",
       "      <th id=\"T_e63d3_level0_row7\" class=\"row_heading level0 row7\" >Argentina 7</th>\n",
       "      <td id=\"T_e63d3_row7_col0\" class=\"data row7 col0\" >0.00%</td>\n",
       "      <td id=\"T_e63d3_row7_col1\" class=\"data row7 col1\" >0.00%</td>\n",
       "      <td id=\"T_e63d3_row7_col2\" class=\"data row7 col2\" >0.00%</td>\n",
       "      <td id=\"T_e63d3_row7_col3\" class=\"data row7 col3\" >0.00%</td>\n",
       "      <td id=\"T_e63d3_row7_col4\" class=\"data row7 col4\" >0.00%</td>\n",
       "      <td id=\"T_e63d3_row7_col5\" class=\"data row7 col5\" >0.00%</td>\n",
       "      <td id=\"T_e63d3_row7_col6\" class=\"data row7 col6\" >0.00%</td>\n",
       "      <td id=\"T_e63d3_row7_col7\" class=\"data row7 col7\" >0.00%</td>\n",
       "      <td id=\"T_e63d3_row7_col8\" class=\"data row7 col8\" >0.00%</td>\n",
       "      <td id=\"T_e63d3_row7_col9\" class=\"data row7 col9\" >0.00%</td>\n",
       "    </tr>\n",
       "    <tr>\n",
       "      <th id=\"T_e63d3_level0_row8\" class=\"row_heading level0 row8\" >Argentina 8</th>\n",
       "      <td id=\"T_e63d3_row8_col0\" class=\"data row8 col0\" >0.00%</td>\n",
       "      <td id=\"T_e63d3_row8_col1\" class=\"data row8 col1\" >0.00%</td>\n",
       "      <td id=\"T_e63d3_row8_col2\" class=\"data row8 col2\" >0.00%</td>\n",
       "      <td id=\"T_e63d3_row8_col3\" class=\"data row8 col3\" >0.00%</td>\n",
       "      <td id=\"T_e63d3_row8_col4\" class=\"data row8 col4\" >0.00%</td>\n",
       "      <td id=\"T_e63d3_row8_col5\" class=\"data row8 col5\" >0.00%</td>\n",
       "      <td id=\"T_e63d3_row8_col6\" class=\"data row8 col6\" >0.00%</td>\n",
       "      <td id=\"T_e63d3_row8_col7\" class=\"data row8 col7\" >0.00%</td>\n",
       "      <td id=\"T_e63d3_row8_col8\" class=\"data row8 col8\" >0.00%</td>\n",
       "      <td id=\"T_e63d3_row8_col9\" class=\"data row8 col9\" >0.00%</td>\n",
       "    </tr>\n",
       "    <tr>\n",
       "      <th id=\"T_e63d3_level0_row9\" class=\"row_heading level0 row9\" >Argentina 9</th>\n",
       "      <td id=\"T_e63d3_row9_col0\" class=\"data row9 col0\" >0.00%</td>\n",
       "      <td id=\"T_e63d3_row9_col1\" class=\"data row9 col1\" >0.00%</td>\n",
       "      <td id=\"T_e63d3_row9_col2\" class=\"data row9 col2\" >0.00%</td>\n",
       "      <td id=\"T_e63d3_row9_col3\" class=\"data row9 col3\" >0.00%</td>\n",
       "      <td id=\"T_e63d3_row9_col4\" class=\"data row9 col4\" >0.00%</td>\n",
       "      <td id=\"T_e63d3_row9_col5\" class=\"data row9 col5\" >0.00%</td>\n",
       "      <td id=\"T_e63d3_row9_col6\" class=\"data row9 col6\" >0.00%</td>\n",
       "      <td id=\"T_e63d3_row9_col7\" class=\"data row9 col7\" >0.00%</td>\n",
       "      <td id=\"T_e63d3_row9_col8\" class=\"data row9 col8\" >0.00%</td>\n",
       "      <td id=\"T_e63d3_row9_col9\" class=\"data row9 col9\" >0.00%</td>\n",
       "    </tr>\n",
       "  </tbody>\n",
       "</table>\n"
      ],
      "text/plain": [
       "<pandas.io.formats.style.Styler at 0x7f4df04630d0>"
      ]
     },
     "execution_count": 332,
     "metadata": {},
     "output_type": "execute_result"
    }
   ],
   "source": [
    "res_df.style.format(\"{:.2%}\").apply(style_specific_cells, axis=None)\n"
   ]
  },
  {
   "cell_type": "code",
   "execution_count": 333,
   "metadata": {},
   "outputs": [],
   "source": [
    "def find_probs(poisson_home, poisson_away):\n",
    "    home_probs = []\n",
    "    away_probs = []\n",
    "    \n",
    "    draw_probs = []\n",
    "    \n",
    "    for i in range(len(poisson_home)):\n",
    "        for j in range(len(poisson_away)):\n",
    "            res_prob = poisson_home[i]*poisson_away[j]\n",
    "            \n",
    "            if i == j:\n",
    "                draw_probs.append(res_prob)\n",
    "            elif i > j:\n",
    "                home_probs.append(res_prob)\n",
    "            elif j > i:\n",
    "                away_probs.append(res_prob)\n",
    "            #res_track[j][i] = res_prob\n",
    "    \n",
    "    \n",
    "    return sum(home_probs), sum(draw_probs), sum(away_probs), poisson_home.tolist().index(max(poisson_home.tolist())), poisson_away.tolist().index(max(poisson_away.tolist()))"
   ]
  },
  {
   "cell_type": "code",
   "execution_count": 334,
   "metadata": {},
   "outputs": [],
   "source": [
    "gw, draw, sw, g1, g2 = find_probs(poisson_probs_argentina, poisson_probs_canada)\n"
   ]
  },
  {
   "cell_type": "code",
   "execution_count": 335,
   "metadata": {},
   "outputs": [
    {
     "name": "stdout",
     "output_type": "stream",
     "text": [
      "Argentina Wins: 8.98%\n",
      "Draw: 11.39%\n",
      "Canada Wins: 50.44%\n",
      "most prob result 1 - 3\n"
     ]
    }
   ],
   "source": [
    "print(f\"Argentina Wins: {gw:.2%}\")\n",
    "print(f\"Draw: {draw:.2%}\")\n",
    "print(f\"Canada Wins: {sw:.2%}\")\n",
    "print(f\"most prob result {g1} - {g2}\")"
   ]
  },
  {
   "cell_type": "markdown",
   "metadata": {},
   "source": [
    "# Complete Simulation"
   ]
  },
  {
   "cell_type": "code",
   "execution_count": 502,
   "metadata": {},
   "outputs": [],
   "source": [
    "matches = pd.read_csv(\"./datasets/created/copa_america_countries_results.csv\")"
   ]
  },
  {
   "cell_type": "code",
   "execution_count": 470,
   "metadata": {},
   "outputs": [
    {
     "data": {
      "text/plain": [
       "array(['United States', 'Argentina', 'Mexico', 'Peru', 'Brazil',\n",
       "       'Costa Rica', 'Paraguay', 'Venezuela', 'Colombia', 'Uruguay',\n",
       "       'Bolivia', 'Ecuador', 'Chile', 'Jamaica', 'Canada', 'Panama'],\n",
       "      dtype=object)"
      ]
     },
     "execution_count": 470,
     "metadata": {},
     "output_type": "execute_result"
    }
   ],
   "source": [
    "matches.home_team.unique()"
   ]
  },
  {
   "cell_type": "code",
   "execution_count": 471,
   "metadata": {},
   "outputs": [
    {
     "data": {
      "text/html": [
       "<div>\n",
       "<style scoped>\n",
       "    .dataframe tbody tr th:only-of-type {\n",
       "        vertical-align: middle;\n",
       "    }\n",
       "\n",
       "    .dataframe tbody tr th {\n",
       "        vertical-align: top;\n",
       "    }\n",
       "\n",
       "    .dataframe thead th {\n",
       "        text-align: right;\n",
       "    }\n",
       "</style>\n",
       "<table border=\"1\" class=\"dataframe\">\n",
       "  <thead>\n",
       "    <tr style=\"text-align: right;\">\n",
       "      <th></th>\n",
       "      <th>date</th>\n",
       "      <th>home_team</th>\n",
       "      <th>away_team</th>\n",
       "      <th>home_score</th>\n",
       "      <th>away_score</th>\n",
       "      <th>tournament</th>\n",
       "      <th>city</th>\n",
       "      <th>country</th>\n",
       "      <th>neutral</th>\n",
       "      <th>result</th>\n",
       "    </tr>\n",
       "  </thead>\n",
       "  <tbody>\n",
       "    <tr>\n",
       "      <th>0</th>\n",
       "      <td>2019-01-27</td>\n",
       "      <td>United States</td>\n",
       "      <td>Panama</td>\n",
       "      <td>3</td>\n",
       "      <td>0</td>\n",
       "      <td>Friendly</td>\n",
       "      <td>Glendale</td>\n",
       "      <td>United States</td>\n",
       "      <td>False</td>\n",
       "      <td>Home</td>\n",
       "    </tr>\n",
       "    <tr>\n",
       "      <th>1</th>\n",
       "      <td>2019-02-02</td>\n",
       "      <td>United States</td>\n",
       "      <td>Costa Rica</td>\n",
       "      <td>2</td>\n",
       "      <td>0</td>\n",
       "      <td>Friendly</td>\n",
       "      <td>San Jose</td>\n",
       "      <td>United States</td>\n",
       "      <td>False</td>\n",
       "      <td>Home</td>\n",
       "    </tr>\n",
       "    <tr>\n",
       "      <th>2</th>\n",
       "      <td>2019-03-21</td>\n",
       "      <td>United States</td>\n",
       "      <td>Ecuador</td>\n",
       "      <td>1</td>\n",
       "      <td>0</td>\n",
       "      <td>Friendly</td>\n",
       "      <td>Orlando</td>\n",
       "      <td>United States</td>\n",
       "      <td>False</td>\n",
       "      <td>Home</td>\n",
       "    </tr>\n",
       "    <tr>\n",
       "      <th>3</th>\n",
       "      <td>2019-03-22</td>\n",
       "      <td>Argentina</td>\n",
       "      <td>Venezuela</td>\n",
       "      <td>1</td>\n",
       "      <td>3</td>\n",
       "      <td>Friendly</td>\n",
       "      <td>Madrid</td>\n",
       "      <td>Spain</td>\n",
       "      <td>True</td>\n",
       "      <td>Away</td>\n",
       "    </tr>\n",
       "    <tr>\n",
       "      <th>4</th>\n",
       "      <td>2019-03-22</td>\n",
       "      <td>Mexico</td>\n",
       "      <td>Chile</td>\n",
       "      <td>3</td>\n",
       "      <td>1</td>\n",
       "      <td>Friendly</td>\n",
       "      <td>San Diego</td>\n",
       "      <td>United States</td>\n",
       "      <td>True</td>\n",
       "      <td>Home</td>\n",
       "    </tr>\n",
       "    <tr>\n",
       "      <th>...</th>\n",
       "      <td>...</td>\n",
       "      <td>...</td>\n",
       "      <td>...</td>\n",
       "      <td>...</td>\n",
       "      <td>...</td>\n",
       "      <td>...</td>\n",
       "      <td>...</td>\n",
       "      <td>...</td>\n",
       "      <td>...</td>\n",
       "      <td>...</td>\n",
       "    </tr>\n",
       "    <tr>\n",
       "      <th>321</th>\n",
       "      <td>2024-06-11</td>\n",
       "      <td>Chile</td>\n",
       "      <td>Paraguay</td>\n",
       "      <td>3</td>\n",
       "      <td>0</td>\n",
       "      <td>Friendly</td>\n",
       "      <td>Santiago</td>\n",
       "      <td>Chile</td>\n",
       "      <td>False</td>\n",
       "      <td>Home</td>\n",
       "    </tr>\n",
       "    <tr>\n",
       "      <th>322</th>\n",
       "      <td>2024-06-12</td>\n",
       "      <td>Ecuador</td>\n",
       "      <td>Bolivia</td>\n",
       "      <td>3</td>\n",
       "      <td>1</td>\n",
       "      <td>Friendly</td>\n",
       "      <td>Chester</td>\n",
       "      <td>United States</td>\n",
       "      <td>True</td>\n",
       "      <td>Home</td>\n",
       "    </tr>\n",
       "    <tr>\n",
       "      <th>323</th>\n",
       "      <td>2024-06-12</td>\n",
       "      <td>United States</td>\n",
       "      <td>Brazil</td>\n",
       "      <td>1</td>\n",
       "      <td>1</td>\n",
       "      <td>Friendly</td>\n",
       "      <td>Orlando</td>\n",
       "      <td>United States</td>\n",
       "      <td>False</td>\n",
       "      <td>Draw</td>\n",
       "    </tr>\n",
       "    <tr>\n",
       "      <th>324</th>\n",
       "      <td>2024-06-15</td>\n",
       "      <td>Colombia</td>\n",
       "      <td>Bolivia</td>\n",
       "      <td>3</td>\n",
       "      <td>0</td>\n",
       "      <td>Friendly</td>\n",
       "      <td>Denver</td>\n",
       "      <td>United States</td>\n",
       "      <td>True</td>\n",
       "      <td>Home</td>\n",
       "    </tr>\n",
       "    <tr>\n",
       "      <th>325</th>\n",
       "      <td>2024-06-16</td>\n",
       "      <td>Panama</td>\n",
       "      <td>Paraguay</td>\n",
       "      <td>0</td>\n",
       "      <td>1</td>\n",
       "      <td>Friendly</td>\n",
       "      <td>Panama City</td>\n",
       "      <td>Panama</td>\n",
       "      <td>False</td>\n",
       "      <td>Away</td>\n",
       "    </tr>\n",
       "  </tbody>\n",
       "</table>\n",
       "<p>326 rows × 10 columns</p>\n",
       "</div>"
      ],
      "text/plain": [
       "           date      home_team   away_team  home_score  away_score tournament  \\\n",
       "0    2019-01-27  United States      Panama           3           0   Friendly   \n",
       "1    2019-02-02  United States  Costa Rica           2           0   Friendly   \n",
       "2    2019-03-21  United States     Ecuador           1           0   Friendly   \n",
       "3    2019-03-22      Argentina   Venezuela           1           3   Friendly   \n",
       "4    2019-03-22         Mexico       Chile           3           1   Friendly   \n",
       "..          ...            ...         ...         ...         ...        ...   \n",
       "321  2024-06-11          Chile    Paraguay           3           0   Friendly   \n",
       "322  2024-06-12        Ecuador     Bolivia           3           1   Friendly   \n",
       "323  2024-06-12  United States      Brazil           1           1   Friendly   \n",
       "324  2024-06-15       Colombia     Bolivia           3           0   Friendly   \n",
       "325  2024-06-16         Panama    Paraguay           0           1   Friendly   \n",
       "\n",
       "            city        country  neutral result  \n",
       "0       Glendale  United States    False   Home  \n",
       "1       San Jose  United States    False   Home  \n",
       "2        Orlando  United States    False   Home  \n",
       "3         Madrid          Spain     True   Away  \n",
       "4      San Diego  United States     True   Home  \n",
       "..           ...            ...      ...    ...  \n",
       "321     Santiago          Chile    False   Home  \n",
       "322      Chester  United States     True   Home  \n",
       "323      Orlando  United States    False   Draw  \n",
       "324       Denver  United States     True   Home  \n",
       "325  Panama City         Panama    False   Away  \n",
       "\n",
       "[326 rows x 10 columns]"
      ]
     },
     "execution_count": 471,
     "metadata": {},
     "output_type": "execute_result"
    }
   ],
   "source": [
    "matches"
   ]
  },
  {
   "cell_type": "code",
   "execution_count": 140,
   "metadata": {},
   "outputs": [
    {
     "data": {
      "text/plain": [
       "{'A': {'Argentina': [0, 0, 0],\n",
       "  'Peru': [0, 0, 0],\n",
       "  'Chile': [0, 0, 0],\n",
       "  'Canada': [0, 0, 0]},\n",
       " 'B': {'Mexico': [0, 0, 0],\n",
       "  'Ecuador': [0, 0, 0],\n",
       "  'Venezuela': [0, 0, 0],\n",
       "  'Jamaica': [0, 0, 0]},\n",
       " 'C': {'United States': [0, 0, 0],\n",
       "  'Uruguay': [0, 0, 0],\n",
       "  'Panama': [0, 0, 0],\n",
       "  'Bolivia': [0, 0, 0]},\n",
       " 'D': {'Brazil': [0, 0, 0],\n",
       "  'Colombia': [0, 0, 0],\n",
       "  'Paraguay': [0, 0, 0],\n",
       "  'Costa Rica': [0, 0, 0]}}"
      ]
     },
     "execution_count": 140,
     "metadata": {},
     "output_type": "execute_result"
    }
   ],
   "source": [
    "group_dict_manopla = {'A': {'Argentina': [0, 0, 0], 'Peru': [0, 0, 0], 'Chile': [0, 0, 0], 'Canada': [0, 0, 0]},\n",
    "    'B': {'Mexico': [0, 0, 0], 'Ecuador': [0, 0, 0],'Venezuela': [0, 0, 0],'Jamaica': [0, 0, 0]},\n",
    "    'C': {'United States': [0, 0, 0],'Uruguay': [0, 0, 0],'Panama': [0, 0, 0],'Bolivia': [0, 0, 0]},\n",
    "    'D': {'Brazil': [0, 0, 0],'Colombia': [0, 0, 0],'Paraguay': [0, 0, 0],'Costa Rica': [0, 0, 0]}}\n",
    "\n",
    "group_dict_manopla"
   ]
  },
  {
   "cell_type": "code",
   "execution_count": 141,
   "metadata": {},
   "outputs": [
    {
     "data": {
      "text/plain": [
       "{'Argentina': [0, 0, 0],\n",
       " 'Peru': [0, 0, 0],\n",
       " 'Chile': [0, 0, 0],\n",
       " 'Canada': [0, 0, 0]}"
      ]
     },
     "execution_count": 141,
     "metadata": {},
     "output_type": "execute_result"
    }
   ],
   "source": [
    "#get the group A of the dictionary\n",
    "group_dict_manopla['A']\n"
   ]
  },
  {
   "cell_type": "code",
   "execution_count": 142,
   "metadata": {},
   "outputs": [
    {
     "name": "stdout",
     "output_type": "stream",
     "text": [
      "Todas las combinaciones de equipos:\n",
      "('Argentina', 'Peru')\n",
      "('Argentina', 'Chile')\n",
      "('Argentina', 'Canada')\n",
      "('Peru', 'Chile')\n",
      "('Peru', 'Canada')\n",
      "('Chile', 'Canada')\n",
      "('Mexico', 'Ecuador')\n",
      "('Mexico', 'Venezuela')\n",
      "('Mexico', 'Jamaica')\n",
      "('Ecuador', 'Venezuela')\n",
      "('Ecuador', 'Jamaica')\n",
      "('Venezuela', 'Jamaica')\n",
      "('United States', 'Uruguay')\n",
      "('United States', 'Panama')\n",
      "('United States', 'Bolivia')\n",
      "('Uruguay', 'Panama')\n",
      "('Uruguay', 'Bolivia')\n",
      "('Panama', 'Bolivia')\n",
      "('Brazil', 'Colombia')\n",
      "('Brazil', 'Paraguay')\n",
      "('Brazil', 'Costa Rica')\n",
      "('Colombia', 'Paraguay')\n",
      "('Colombia', 'Costa Rica')\n",
      "('Paraguay', 'Costa Rica')\n"
     ]
    }
   ],
   "source": [
    "from itertools import combinations\n",
    "\n",
    "all_combinations = []\n",
    "\n",
    "for group, teams in group_dict_manopla.items():\n",
    "    # Obtener todas las combinaciones de a dos equipos del grupo actual\n",
    "    group_combinations = list(combinations(teams.keys(), 2))\n",
    "    all_combinations.extend(group_combinations)\n",
    "\n",
    "# Imprimir todas las combinaciones obtenidas\n",
    "print(\"Todas las combinaciones de equipos:\")\n",
    "for comb in all_combinations:\n",
    "    print(comb)"
   ]
  },
  {
   "cell_type": "code",
   "execution_count": 143,
   "metadata": {},
   "outputs": [
    {
     "name": "stdout",
     "output_type": "stream",
     "text": [
      "Argentina\n",
      "xg_home: 1.50\n",
      "xg_away: 0.70\n",
      "Argentina vs Peru\n",
      "Argentina Wins: 56.62%\n",
      "Draw: 26.13%\n",
      "Peru Wins: 17.25%\n",
      "most prob result 1 - 0\n",
      "Argentina\n",
      "xg_home: 1.82\n",
      "xg_away: 0.32\n",
      "Argentina vs Chile\n",
      "Argentina Wins: 74.36%\n",
      "Draw: 19.75%\n",
      "Chile Wins: 5.89%\n",
      "most prob result 1 - 0\n",
      "Argentina\n",
      "xg_home: 1.78\n",
      "xg_away: 0.42\n",
      "Argentina vs Canada\n",
      "Argentina Wins: 70.89%\n",
      "Draw: 21.08%\n",
      "Canada Wins: 8.02%\n",
      "most prob result 1 - 0\n",
      "Peru\n",
      "xg_home: 1.48\n",
      "xg_away: 1.08\n",
      "Peru vs Chile\n",
      "Peru Wins: 46.32%\n",
      "Draw: 26.02%\n",
      "Chile Wins: 27.67%\n",
      "most prob result 1 - 1\n",
      "Peru\n",
      "xg_home: 1.38\n",
      "xg_away: 0.77\n",
      "Peru vs Canada\n",
      "Peru Wins: 51.42%\n",
      "Draw: 27.69%\n",
      "Canada Wins: 20.89%\n",
      "most prob result 1 - 0\n",
      "Chile\n",
      "xg_home: 2.19\n",
      "xg_away: 0.83\n",
      "Chile vs Canada\n",
      "Chile Wins: 68.26%\n",
      "Draw: 18.76%\n",
      "Canada Wins: 12.97%\n",
      "most prob result 2 - 0\n",
      "Mexico\n",
      "xg_home: 1.47\n",
      "xg_away: 0.77\n",
      "Mexico vs Ecuador\n",
      "Mexico Wins: 53.73%\n",
      "Draw: 26.55%\n",
      "Ecuador Wins: 19.72%\n",
      "most prob result 1 - 0\n",
      "Mexico\n",
      "xg_home: 1.68\n",
      "xg_away: 0.71\n",
      "Mexico vs Venezuela\n",
      "Mexico Wins: 60.64%\n",
      "Draw: 23.79%\n",
      "Venezuela Wins: 15.56%\n",
      "most prob result 1 - 0\n",
      "Mexico\n",
      "xg_home: 2.19\n",
      "xg_away: 0.87\n",
      "Mexico vs Jamaica\n",
      "Mexico Wins: 67.56%\n",
      "Draw: 18.87%\n",
      "Jamaica Wins: 13.56%\n",
      "most prob result 2 - 0\n",
      "Ecuador\n",
      "xg_home: 1.71\n",
      "xg_away: 0.61\n",
      "Ecuador vs Venezuela\n",
      "Ecuador Wins: 64.22%\n",
      "Draw: 23.03%\n",
      "Venezuela Wins: 12.74%\n",
      "most prob result 1 - 0\n",
      "Ecuador\n",
      "xg_home: 2.02\n",
      "xg_away: 0.55\n",
      "Ecuador vs Jamaica\n",
      "Ecuador Wins: 72.13%\n",
      "Draw: 18.84%\n",
      "Jamaica Wins: 9.03%\n",
      "most prob result 2 - 0\n",
      "Venezuela\n",
      "xg_home: 1.62\n",
      "xg_away: 0.95\n",
      "Venezuela vs Jamaica\n",
      "Venezuela Wins: 53.12%\n",
      "Draw: 24.77%\n",
      "Jamaica Wins: 22.10%\n",
      "most prob result 1 - 0\n",
      "United States\n",
      "xg_home: 1.13\n",
      "xg_away: 0.70\n",
      "United States vs Uruguay\n",
      "United States Wins: 45.78%\n",
      "Draw: 31.44%\n",
      "Uruguay Wins: 22.78%\n",
      "most prob result 1 - 0\n",
      "United States\n",
      "xg_home: 1.92\n",
      "xg_away: 0.74\n",
      "United States vs Panama\n",
      "United States Wins: 65.42%\n",
      "Draw: 21.04%\n",
      "Panama Wins: 13.54%\n",
      "most prob result 1 - 0\n",
      "United States\n",
      "xg_home: 2.47\n",
      "xg_away: 0.33\n",
      "United States vs Bolivia\n",
      "United States Wins: 84.44%\n",
      "Draw: 12.14%\n",
      "Bolivia Wins: 3.40%\n",
      "most prob result 2 - 0\n",
      "Uruguay\n",
      "xg_home: 1.83\n",
      "xg_away: 0.76\n",
      "Uruguay vs Panama\n",
      "Uruguay Wins: 62.81%\n",
      "Draw: 22.14%\n",
      "Panama Wins: 15.05%\n",
      "most prob result 1 - 0\n",
      "Uruguay\n",
      "xg_home: 3.11\n",
      "xg_away: 0.30\n",
      "Uruguay vs Bolivia\n",
      "Uruguay Wins: 90.89%\n",
      "Draw: 7.21%\n",
      "Bolivia Wins: 1.76%\n",
      "most prob result 3 - 0\n",
      "Panama\n",
      "xg_home: 1.64\n",
      "xg_away: 0.79\n",
      "Panama vs Bolivia\n",
      "Panama Wins: 57.63%\n",
      "Draw: 24.44%\n",
      "Bolivia Wins: 17.93%\n",
      "most prob result 1 - 0\n",
      "Brazil\n",
      "xg_home: 1.63\n",
      "xg_away: 0.88\n",
      "Brazil vs Colombia\n",
      "Brazil Wins: 55.02%\n",
      "Draw: 24.73%\n",
      "Colombia Wins: 20.26%\n",
      "most prob result 1 - 0\n",
      "Brazil\n",
      "xg_home: 2.50\n",
      "xg_away: 0.41\n",
      "Brazil vs Paraguay\n",
      "Brazil Wins: 82.98%\n",
      "Draw: 12.65%\n",
      "Paraguay Wins: 4.34%\n",
      "most prob result 2 - 0\n",
      "Brazil\n",
      "xg_home: 2.45\n",
      "xg_away: 0.29\n",
      "Brazil vs Costa Rica\n",
      "Brazil Wins: 84.97%\n",
      "Draw: 11.96%\n",
      "Costa Rica Wins: 3.04%\n",
      "most prob result 2 - 0\n",
      "Colombia\n",
      "xg_home: 1.48\n",
      "xg_away: 0.72\n",
      "Colombia vs Paraguay\n",
      "Colombia Wins: 55.55%\n",
      "Draw: 26.40%\n",
      "Paraguay Wins: 18.05%\n",
      "most prob result 1 - 0\n",
      "Colombia\n",
      "xg_home: 1.61\n",
      "xg_away: 0.66\n",
      "Colombia vs Costa Rica\n",
      "Colombia Wins: 60.36%\n",
      "Draw: 24.63%\n",
      "Costa Rica Wins: 15.01%\n",
      "most prob result 1 - 0\n",
      "Paraguay\n",
      "xg_home: 1.38\n",
      "xg_away: 0.80\n",
      "Paraguay vs Costa Rica\n",
      "Paraguay Wins: 50.69%\n",
      "Draw: 27.66%\n",
      "Costa Rica Wins: 21.65%\n",
      "most prob result 1 - 0\n"
     ]
    }
   ],
   "source": [
    "for match in all_combinations:\n",
    "    home_team = match[0]\n",
    "    away_team = match[1]\n",
    "    print(home_team)\n",
    "\n",
    "\n",
    "    home_features, away_features = find_team_features(home_team, away_team)\n",
    "    xg_home = home_md.predict([home_features])[0]\n",
    "    xg_away = away_md.predict([away_features])[0]\n",
    "\n",
    "    print(f\"xg_home: {xg_home:.2f}\")\n",
    "    print(f\"xg_away: {xg_away:.2f}\")\n",
    "\n",
    "    poisson_probs_home = poisson.pmf(np.arange(0, 10), xg_home)\n",
    "    poisson_probs_away = poisson.pmf(np.arange(0, 10), xg_away)\n",
    "\n",
    "    gw, draw, sw, g1, g2 = find_probs(poisson_probs_home, poisson_probs_away)\n",
    "\n",
    "    print(f\"{home_team} vs {away_team}\")\n",
    "    print(f\"{home_team} Wins: {gw:.2%}\")\n",
    "    print(f\"Draw: {draw:.2%}\")\n",
    "    print(f\"{away_team} Wins: {sw:.2%}\")\n",
    "    print(f\"most prob result {g1} - {g2}\")\n",
    "\n",
    "\n",
    "\n",
    "\n",
    "    #print the feature\n",
    "    "
   ]
  },
  {
   "cell_type": "code",
   "execution_count": 350,
   "metadata": {},
   "outputs": [
    {
     "ename": "AttributeError",
     "evalue": "'DataFrame' object has no attribute 'group'",
     "output_type": "error",
     "traceback": [
      "\u001b[0;31m---------------------------------------------------------------------------\u001b[0m",
      "\u001b[0;31mAttributeError\u001b[0m                            Traceback (most recent call last)",
      "\u001b[0;32m/tmp/ipykernel_5900/703378232.py\u001b[0m in \u001b[0;36m?\u001b[0;34m()\u001b[0m\n\u001b[1;32m     20\u001b[0m     \u001b[0;31m# Get the probabilities for the home team win, draw and away team win\u001b[0m\u001b[0;34m\u001b[0m\u001b[0;34m\u001b[0m\u001b[0m\n\u001b[1;32m     21\u001b[0m     \u001b[0mgw\u001b[0m\u001b[0;34m,\u001b[0m \u001b[0mdraw\u001b[0m\u001b[0;34m,\u001b[0m \u001b[0msw\u001b[0m\u001b[0;34m,\u001b[0m \u001b[0mg1\u001b[0m\u001b[0;34m,\u001b[0m \u001b[0mg2\u001b[0m \u001b[0;34m=\u001b[0m \u001b[0mfind_probs\u001b[0m\u001b[0;34m(\u001b[0m\u001b[0mpoisson_probs_home\u001b[0m\u001b[0;34m,\u001b[0m \u001b[0mpoisson_probs_away\u001b[0m\u001b[0;34m)\u001b[0m\u001b[0;34m\u001b[0m\u001b[0;34m\u001b[0m\u001b[0m\n\u001b[1;32m     22\u001b[0m \u001b[0;34m\u001b[0m\u001b[0m\n\u001b[1;32m     23\u001b[0m     \u001b[0;31m# Update the dictionary with the results of the match\u001b[0m\u001b[0;34m\u001b[0m\u001b[0;34m\u001b[0m\u001b[0m\n\u001b[0;32m---> 24\u001b[0;31m     \u001b[0mgroup_dict_manopla\u001b[0m\u001b[0;34m[\u001b[0m\u001b[0mmatches\u001b[0m\u001b[0;34m[\u001b[0m\u001b[0mmatches\u001b[0m\u001b[0;34m[\u001b[0m\u001b[0;34m'home_team'\u001b[0m\u001b[0;34m]\u001b[0m \u001b[0;34m==\u001b[0m \u001b[0mhome_team\u001b[0m\u001b[0;34m]\u001b[0m\u001b[0;34m.\u001b[0m\u001b[0mgroup\u001b[0m\u001b[0;34m.\u001b[0m\u001b[0mvalues\u001b[0m\u001b[0;34m[\u001b[0m\u001b[0;36m0\u001b[0m\u001b[0;34m]\u001b[0m\u001b[0;34m]\u001b[0m\u001b[0;34m[\u001b[0m\u001b[0mhome_team\u001b[0m\u001b[0;34m]\u001b[0m\u001b[0;34m[\u001b[0m\u001b[0;36m0\u001b[0m\u001b[0;34m]\u001b[0m \u001b[0;34m+=\u001b[0m \u001b[0mgw\u001b[0m\u001b[0;34m\u001b[0m\u001b[0;34m\u001b[0m\u001b[0m\n\u001b[0m\u001b[1;32m     25\u001b[0m     \u001b[0mgroup_dict_manopla\u001b[0m\u001b[0;34m[\u001b[0m\u001b[0mmatches\u001b[0m\u001b[0;34m[\u001b[0m\u001b[0mmatches\u001b[0m\u001b[0;34m[\u001b[0m\u001b[0;34m'home_team'\u001b[0m\u001b[0;34m]\u001b[0m \u001b[0;34m==\u001b[0m \u001b[0mhome_team\u001b[0m\u001b[0;34m]\u001b[0m\u001b[0;34m.\u001b[0m\u001b[0mgroup\u001b[0m\u001b[0;34m.\u001b[0m\u001b[0mvalues\u001b[0m\u001b[0;34m[\u001b[0m\u001b[0;36m0\u001b[0m\u001b[0;34m]\u001b[0m\u001b[0;34m]\u001b[0m\u001b[0;34m[\u001b[0m\u001b[0mhome_team\u001b[0m\u001b[0;34m]\u001b[0m\u001b[0;34m[\u001b[0m\u001b[0;36m1\u001b[0m\u001b[0;34m]\u001b[0m \u001b[0;34m+=\u001b[0m \u001b[0mdraw\u001b[0m\u001b[0;34m\u001b[0m\u001b[0;34m\u001b[0m\u001b[0m\n\u001b[1;32m     26\u001b[0m     \u001b[0mgroup_dict_manopla\u001b[0m\u001b[0;34m[\u001b[0m\u001b[0mmatches\u001b[0m\u001b[0;34m[\u001b[0m\u001b[0mmatches\u001b[0m\u001b[0;34m[\u001b[0m\u001b[0;34m'home_team'\u001b[0m\u001b[0;34m]\u001b[0m \u001b[0;34m==\u001b[0m \u001b[0mhome_team\u001b[0m\u001b[0;34m]\u001b[0m\u001b[0;34m.\u001b[0m\u001b[0mgroup\u001b[0m\u001b[0;34m.\u001b[0m\u001b[0mvalues\u001b[0m\u001b[0;34m[\u001b[0m\u001b[0;36m0\u001b[0m\u001b[0;34m]\u001b[0m\u001b[0;34m]\u001b[0m\u001b[0;34m[\u001b[0m\u001b[0mhome_team\u001b[0m\u001b[0;34m]\u001b[0m\u001b[0;34m[\u001b[0m\u001b[0;36m2\u001b[0m\u001b[0;34m]\u001b[0m \u001b[0;34m+=\u001b[0m \u001b[0msw\u001b[0m\u001b[0;34m\u001b[0m\u001b[0;34m\u001b[0m\u001b[0m\n\u001b[1;32m     27\u001b[0m \u001b[0;34m\u001b[0m\u001b[0m\n",
      "\u001b[0;32m~/.local/lib/python3.10/site-packages/pandas/core/generic.py\u001b[0m in \u001b[0;36m?\u001b[0;34m(self, name)\u001b[0m\n\u001b[1;32m   5985\u001b[0m             \u001b[0;32mand\u001b[0m \u001b[0mname\u001b[0m \u001b[0;32mnot\u001b[0m \u001b[0;32min\u001b[0m \u001b[0mself\u001b[0m\u001b[0;34m.\u001b[0m\u001b[0m_accessors\u001b[0m\u001b[0;34m\u001b[0m\u001b[0;34m\u001b[0m\u001b[0m\n\u001b[1;32m   5986\u001b[0m             \u001b[0;32mand\u001b[0m \u001b[0mself\u001b[0m\u001b[0;34m.\u001b[0m\u001b[0m_info_axis\u001b[0m\u001b[0;34m.\u001b[0m\u001b[0m_can_hold_identifiers_and_holds_name\u001b[0m\u001b[0;34m(\u001b[0m\u001b[0mname\u001b[0m\u001b[0;34m)\u001b[0m\u001b[0;34m\u001b[0m\u001b[0;34m\u001b[0m\u001b[0m\n\u001b[1;32m   5987\u001b[0m         ):\n\u001b[1;32m   5988\u001b[0m             \u001b[0;32mreturn\u001b[0m \u001b[0mself\u001b[0m\u001b[0;34m[\u001b[0m\u001b[0mname\u001b[0m\u001b[0;34m]\u001b[0m\u001b[0;34m\u001b[0m\u001b[0;34m\u001b[0m\u001b[0m\n\u001b[0;32m-> 5989\u001b[0;31m         \u001b[0;32mreturn\u001b[0m \u001b[0mobject\u001b[0m\u001b[0;34m.\u001b[0m\u001b[0m__getattribute__\u001b[0m\u001b[0;34m(\u001b[0m\u001b[0mself\u001b[0m\u001b[0;34m,\u001b[0m \u001b[0mname\u001b[0m\u001b[0;34m)\u001b[0m\u001b[0;34m\u001b[0m\u001b[0;34m\u001b[0m\u001b[0m\n\u001b[0m",
      "\u001b[0;31mAttributeError\u001b[0m: 'DataFrame' object has no attribute 'group'"
     ]
    }
   ],
   "source": [
    "#for each possible match in the all_combinations list we will predict the result\n",
    "for match in all_combinations:\n",
    "    home_team = match[0]\n",
    "    away_team = match[1]\n",
    "    \n",
    "    home_team_goals = 0\n",
    "    away_team_goals = 0\n",
    "    \n",
    "    # Get the features for the home and away team\n",
    "    home_features, away_features = find_team_features(home_team, away_team)\n",
    "    \n",
    "    # Predict the expected goals for the home and away team\n",
    "    xg_home = home_md.predict([home_features])[0]\n",
    "    xg_away = away_md.predict([away_features])[0]\n",
    "    \n",
    "    # Get the poisson distribution for the home and away team\n",
    "    poisson_probs_home = poisson.pmf(np.arange(0, 10), xg_home)\n",
    "    poisson_probs_away = poisson.pmf(np.arange(0, 10), xg_away)\n",
    "    \n",
    "    # Get the probabilities for the home team win, draw and away team win\n",
    "    gw, draw, sw, g1, g2 = find_probs(poisson_probs_home, poisson_probs_away)\n",
    "    \n",
    "    # Update the dictionary with the results of the match\n",
    "    group_dict_manopla[matches[matches['home_team'] == home_team].group.values[0]][home_team][0] += gw\n",
    "    group_dict_manopla[matches[matches['home_team'] == home_team].group.values[0]][home_team][1] += draw\n",
    "    group_dict_manopla[matches[matches['home_team'] == home_team].group.values[0]][home_team][2] += sw\n",
    "    \n",
    "    group_dict_manopla[matches[matches['away_team'] == away_team].group.values[0]][away_team][0] += sw\n",
    "    group_dict_manopla[matches[matches['away_team'] == away_team].group.values[0]][away_team][1] += draw\n",
    "    group_dict_manopla[matches[matches['away_team'] == away_team].group.values[0]][away_team][2] += gw\n",
    "    \n",
    "    print(f\"{home_team} vs {away_team}\")\n",
    "    print(f\"Argentina Wins: {gw:.2%}\")\n",
    "    print(f\"Draw: {draw:.2%}\")\n",
    "    print(f\"Uruguay Wins: {sw:.2%}\")\n",
    "    print(f\"most prob result {g1} - {g2}\")\n",
    "    print(\"\\n\")\n",
    "\n",
    "group_dict_manopla\n"
   ]
  }
 ],
 "metadata": {
  "kernelspec": {
   "display_name": "Python 3",
   "language": "python",
   "name": "python3"
  },
  "language_info": {
   "codemirror_mode": {
    "name": "ipython",
    "version": 3
   },
   "file_extension": ".py",
   "mimetype": "text/x-python",
   "name": "python",
   "nbconvert_exporter": "python",
   "pygments_lexer": "ipython3",
   "version": "3.10.12"
  }
 },
 "nbformat": 4,
 "nbformat_minor": 2
}
