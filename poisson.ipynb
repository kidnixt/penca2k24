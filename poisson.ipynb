{
 "cells": [
  {
   "cell_type": "code",
   "execution_count": 1,
   "metadata": {},
   "outputs": [],
   "source": [
    "import pickle\n",
    "import pandas as pd\n",
    "import numpy as np\n",
    "import matplotlib.pyplot as plt\n",
    "import seaborn as sns"
   ]
  },
  {
   "cell_type": "code",
   "execution_count": 2,
   "metadata": {},
   "outputs": [],
   "source": [
    "with open('models/rf_home.pkl', 'rb') as f:\n",
    "    home_md = pickle.load(f)\n",
    "\n",
    "with open('models/rf_away.pkl', 'rb') as f:\n",
    "    away_md = pickle.load(f)"
   ]
  },
  {
   "cell_type": "code",
   "execution_count": 9,
   "metadata": {},
   "outputs": [],
   "source": [
    "teams_data = pd.read_csv(\"datasets/created/new_model.csv\")\n"
   ]
  },
  {
   "cell_type": "code",
   "execution_count": 20,
   "metadata": {},
   "outputs": [],
   "source": [
    "def find_team_features(home, away):\n",
    "    # Select the last row where the home or away team matches the input teams\n",
    "    home_infos = teams_data[(teams_data['home_team'] == home) | (teams_data['away_team'] == home)].tail(1)\n",
    "    away_infos = teams_data[(teams_data['home_team'] == away) | (teams_data['away_team'] == away)].tail(1)\n",
    "    \n",
    "    # Extracting features for the home team\n",
    "    if home_infos['home_team'].values[0] == home:\n",
    "        home_away_goals_suf_mean = home_infos['home_goals_suf_mean'].values[0]\n",
    "        home_away_goals_mean = home_infos['away_goals_mean'].values[0]\n",
    "        home_away_goals_suf_mean_l5 = home_infos['away_goals_suf_mean_l5'].values[0]\n",
    "        home_away_goals_mean_l5 = home_infos['away_goals_mean_l5'].values[0]\n",
    "        home_home_goals_mean = home_infos['home_goals_mean'].values[0]\n",
    "        home_home_goals_suf_mean = home_infos['home_goals_suf_mean'].values[0]\n",
    "        home_home_goals_mean_l5 = home_infos['home_goals_mean_l5'].values[0]\n",
    "        home_home_goals_suf_mean_l5 = home_infos['home_goals_suf_mean_l5'].values[0]\n",
    "        home_rank = home_infos['rank_home'].values[0] \n",
    "    else:\n",
    "        home_away_goals_suf_mean = home_infos['away_goals_suf_mean'].values[0]\n",
    "        home_away_goals_mean = home_infos['away_goals_mean'].values[0]\n",
    "        home_away_goals_suf_mean_l5 = home_infos['away_goals_suf_mean_l5'].values[0]\n",
    "        home_away_goals_mean_l5 = home_infos['away_goals_mean_l5'].values[0]\n",
    "        home_home_goals_mean = home_infos['away_goals_mean'].values[0]\n",
    "        home_home_goals_suf_mean = home_infos['away_goals_suf_mean'].values[0]\n",
    "        home_home_goals_mean_l5 = home_infos['away_goals_mean_l5'].values[0]\n",
    "        home_home_goals_suf_mean_l5 = home_infos['away_goals_suf_mean_l5'].values[0]\n",
    "        home_rank = home_infos['rank_away'].values[0]\n",
    "\n",
    "    # Extracting features for the away team\n",
    "    if away_infos['home_team'].values[0] == away:\n",
    "        away_away_goals_suf_mean = away_infos['home_goals_suf_mean'].values[0]\n",
    "        away_away_goals_mean = away_infos['away_goals_mean'].values[0]\n",
    "        away_away_goals_suf_mean_l5 = away_infos['away_goals_suf_mean_l5'].values[0]\n",
    "        away_away_goals_mean_l5 = away_infos['away_goals_mean_l5'].values[0]\n",
    "        away_home_goals_mean = away_infos['home_goals_mean'].values[0]\n",
    "        away_home_goals_suf_mean = away_infos['home_goals_suf_mean'].values[0]\n",
    "        away_home_goals_mean_l5 = away_infos['home_goals_mean_l5'].values[0]\n",
    "        away_home_goals_suf_mean_l5 = away_infos['home_goals_suf_mean_l5'].values[0]\n",
    "        away_rank = away_infos['rank_home'].values[0]\n",
    "    else:\n",
    "        away_away_goals_suf_mean = away_infos['away_goals_suf_mean'].values[0]\n",
    "        away_away_goals_mean = away_infos['away_goals_mean'].values[0]\n",
    "        away_away_goals_suf_mean_l5 = away_infos['away_goals_suf_mean_l5'].values[0]\n",
    "        away_away_goals_mean_l5 = away_infos['away_goals_mean_l5'].values[0]\n",
    "        away_home_goals_mean = away_infos['away_goals_mean'].values[0]\n",
    "        away_home_goals_suf_mean = away_infos['away_goals_suf_mean'].values[0]\n",
    "        away_home_goals_mean_l5 = away_infos['away_goals_mean_l5'].values[0]\n",
    "        away_home_goals_suf_mean_l5 = away_infos['away_goals_suf_mean_l5'].values[0]\n",
    "        away_rank = away_infos['rank_home'].values[0]\n",
    "\n",
    "    # Calculate rank difference\n",
    "    rank_dif = home_rank - away_rank\n",
    "    \n",
    "    # Define features for home team\n",
    "    ht_features = [\n",
    "        home_away_goals_suf_mean * rank_dif,\n",
    "        home_away_goals_mean * rank_dif,\n",
    "        home_away_goals_suf_mean_l5 * rank_dif,\n",
    "        home_away_goals_mean_l5 * rank_dif,\n",
    "        home_home_goals_mean * rank_dif,\n",
    "        home_home_goals_suf_mean * rank_dif,\n",
    "        home_home_goals_mean_l5 * rank_dif,\n",
    "        home_home_goals_suf_mean_l5 * rank_dif,\n",
    "    ]\n",
    "    \n",
    "    # Define features for away team\n",
    "    at_features = [\n",
    "        away_away_goals_suf_mean * rank_dif,\n",
    "        away_away_goals_mean * rank_dif,\n",
    "        away_away_goals_suf_mean_l5 * rank_dif,\n",
    "        away_away_goals_mean_l5 * rank_dif,\n",
    "        away_home_goals_mean * rank_dif,\n",
    "        away_home_goals_suf_mean * rank_dif,\n",
    "        away_home_goals_mean_l5 * rank_dif,\n",
    "        away_home_goals_suf_mean_l5 * rank_dif,\n",
    "    ]\n",
    "    \n",
    "    return ht_features, at_features\n"
   ]
  },
  {
   "cell_type": "code",
   "execution_count": 21,
   "metadata": {},
   "outputs": [],
   "source": [
    "g, s = find_team_features(\"Uruguay\", \"Argentina\")\n",
    "\n"
   ]
  },
  {
   "cell_type": "code",
   "execution_count": 22,
   "metadata": {},
   "outputs": [],
   "source": [
    "xg_g = home_md.predict([g])[0]"
   ]
  },
  {
   "cell_type": "code",
   "execution_count": 24,
   "metadata": {},
   "outputs": [],
   "source": [
    "xg_s = away_md.predict([s])[0]\n"
   ]
  },
  {
   "cell_type": "code",
   "execution_count": 25,
   "metadata": {},
   "outputs": [],
   "source": [
    "from scipy.stats import poisson\n",
    "poisson_probs_g = poisson.pmf(np.arange(0, 10), xg_g)\n",
    "poisson_probs_s = poisson.pmf(np.arange(0, 10), xg_s)"
   ]
  },
  {
   "cell_type": "code",
   "execution_count": 26,
   "metadata": {},
   "outputs": [],
   "source": [
    "def plot_poisson(x, poisson_probs, team):\n",
    "    plt.figure(figsize=(10, 6))\n",
    "    plt.bar(x, poisson_probs, alpha=0.6, color='blue')\n",
    "    plt.plot(x, poisson_probs, 'bo', ms=8)\n",
    "    plt.title(f'Poisson Distribution - {team}')\n",
    "    plt.xlabel('Number of Events')\n",
    "    plt.ylabel('Probability')\n",
    "    plt.grid(True)\n",
    "    plt.show()"
   ]
  },
  {
   "cell_type": "code",
   "execution_count": 27,
   "metadata": {},
   "outputs": [
    {
     "data": {
      "image/png": "[encoded data removed]",
      "text/plain": [
       "<Figure size 1000x600 with 1 Axes>"
      ]
     },
     "metadata": {},
     "output_type": "display_data"
    }
   ],
   "source": [
    "plot_poisson(np.arange(0,10), poisson_probs_g, \"Uruguay\")\n"
   ]
  },
  {
   "cell_type": "code",
   "execution_count": 28,
   "metadata": {},
   "outputs": [
    {
     "data": {
      "image/png": "[encoded data removed]",
      "text/plain": [
       "<Figure size 1000x600 with 1 Axes>"
      ]
     },
     "metadata": {},
     "output_type": "display_data"
    }
   ],
   "source": [
    "plot_poisson(np.arange(0,10), poisson_probs_s, \"Argentina\")\n"
   ]
  },
  {
   "cell_type": "code",
   "execution_count": 29,
   "metadata": {},
   "outputs": [],
   "source": [
    "res_track = np.zeros((10,10))\n",
    "\n",
    "for i in range(len(poisson_probs_g)):\n",
    "    for j in range(len(poisson_probs_s)):\n",
    "        res_prob = poisson_probs_g[i]*poisson_probs_s[j]\n",
    "        res_track[j][i] = res_prob"
   ]
  },
  {
   "cell_type": "code",
   "execution_count": 30,
   "metadata": {},
   "outputs": [
    {
     "data": {
      "text/plain": [
       "array([1.45096945e-01, 2.80088348e-01, 2.70334716e-01, 1.73947159e-01,\n",
       "       8.39448627e-02, 3.24086464e-02, 1.04266889e-02, 2.87531315e-03,\n",
       "       6.93796234e-04, 1.48807974e-04])"
      ]
     },
     "execution_count": 30,
     "metadata": {},
     "output_type": "execute_result"
    }
   ],
   "source": [
    "poisson_probs_g\n"
   ]
  },
  {
   "cell_type": "code",
   "execution_count": 31,
   "metadata": {},
   "outputs": [
    {
     "data": {
      "text/plain": [
       "array([3.23033256e-01, 3.65027580e-01, 2.06240583e-01, 7.76839528e-02,\n",
       "       2.19457167e-02, 4.95973196e-03, 9.34082853e-04, 1.50787661e-04,\n",
       "       2.12987571e-05, 2.67417728e-06])"
      ]
     },
     "execution_count": 31,
     "metadata": {},
     "output_type": "execute_result"
    }
   ],
   "source": [
    "poisson_probs_s\n"
   ]
  },
  {
   "cell_type": "code",
   "execution_count": 32,
   "metadata": {},
   "outputs": [],
   "source": [
    "res_df = pd.DataFrame(res_track)\n"
   ]
  },
  {
   "cell_type": "code",
   "execution_count": 33,
   "metadata": {},
   "outputs": [],
   "source": [
    "res_df.columns = [\"Uruguay \" + str(a) for a in res_df.columns] \n",
    "res_df.index = [\"Argentina \" + str(a) for a in res_df.index] "
   ]
  },
  {
   "cell_type": "code",
   "execution_count": 34,
   "metadata": {},
   "outputs": [],
   "source": [
    "def style_specific_cells(x):\n",
    "    color = ''\n",
    "    \n",
    "    df_styled = pd.DataFrame('', index=x.index, columns=x.columns)\n",
    "    for i in range(x.shape[0]):\n",
    "        for j in range(x.shape[1]):\n",
    "            if i == j:\n",
    "                color = 'background-color: yellow'\n",
    "            elif j > i:\n",
    "                color = 'background-color: lightgreen'\n",
    "            else:\n",
    "                color = 'background-color: lightcoral'\n",
    "            df_styled.iloc[i, j] = color\n",
    "    return df_styled"
   ]
  },
  {
   "cell_type": "code",
   "execution_count": 35,
   "metadata": {},
   "outputs": [
    {
     "data": {
      "text/html": [
       "<style type=\"text/css\">\n",
       "#T_a9e3f_row0_col0, #T_a9e3f_row1_col1, #T_a9e3f_row2_col2, #T_a9e3f_row3_col3, #T_a9e3f_row4_col4, #T_a9e3f_row5_col5, #T_a9e3f_row6_col6, #T_a9e3f_row7_col7, #T_a9e3f_row8_col8, #T_a9e3f_row9_col9 {\n",
       "  background-color: yellow;\n",
       "}\n",
       "#T_a9e3f_row0_col1, #T_a9e3f_row0_col2, #T_a9e3f_row0_col3, #T_a9e3f_row0_col4, #T_a9e3f_row0_col5, #T_a9e3f_row0_col6, #T_a9e3f_row0_col7, #T_a9e3f_row0_col8, #T_a9e3f_row0_col9, #T_a9e3f_row1_col2, #T_a9e3f_row1_col3, #T_a9e3f_row1_col4, #T_a9e3f_row1_col5, #T_a9e3f_row1_col6, #T_a9e3f_row1_col7, #T_a9e3f_row1_col8, #T_a9e3f_row1_col9, #T_a9e3f_row2_col3, #T_a9e3f_row2_col4, #T_a9e3f_row2_col5, #T_a9e3f_row2_col6, #T_a9e3f_row2_col7, #T_a9e3f_row2_col8, #T_a9e3f_row2_col9, #T_a9e3f_row3_col4, #T_a9e3f_row3_col5, #T_a9e3f_row3_col6, #T_a9e3f_row3_col7, #T_a9e3f_row3_col8, #T_a9e3f_row3_col9, #T_a9e3f_row4_col5, #T_a9e3f_row4_col6, #T_a9e3f_row4_col7, #T_a9e3f_row4_col8, #T_a9e3f_row4_col9, #T_a9e3f_row5_col6, #T_a9e3f_row5_col7, #T_a9e3f_row5_col8, #T_a9e3f_row5_col9, #T_a9e3f_row6_col7, #T_a9e3f_row6_col8, #T_a9e3f_row6_col9, #T_a9e3f_row7_col8, #T_a9e3f_row7_col9, #T_a9e3f_row8_col9 {\n",
       "  background-color: lightgreen;\n",
       "}\n",
       "#T_a9e3f_row1_col0, #T_a9e3f_row2_col0, #T_a9e3f_row2_col1, #T_a9e3f_row3_col0, #T_a9e3f_row3_col1, #T_a9e3f_row3_col2, #T_a9e3f_row4_col0, #T_a9e3f_row4_col1, #T_a9e3f_row4_col2, #T_a9e3f_row4_col3, #T_a9e3f_row5_col0, #T_a9e3f_row5_col1, #T_a9e3f_row5_col2, #T_a9e3f_row5_col3, #T_a9e3f_row5_col4, #T_a9e3f_row6_col0, #T_a9e3f_row6_col1, #T_a9e3f_row6_col2, #T_a9e3f_row6_col3, #T_a9e3f_row6_col4, #T_a9e3f_row6_col5, #T_a9e3f_row7_col0, #T_a9e3f_row7_col1, #T_a9e3f_row7_col2, #T_a9e3f_row7_col3, #T_a9e3f_row7_col4, #T_a9e3f_row7_col5, #T_a9e3f_row7_col6, #T_a9e3f_row8_col0, #T_a9e3f_row8_col1, #T_a9e3f_row8_col2, #T_a9e3f_row8_col3, #T_a9e3f_row8_col4, #T_a9e3f_row8_col5, #T_a9e3f_row8_col6, #T_a9e3f_row8_col7, #T_a9e3f_row9_col0, #T_a9e3f_row9_col1, #T_a9e3f_row9_col2, #T_a9e3f_row9_col3, #T_a9e3f_row9_col4, #T_a9e3f_row9_col5, #T_a9e3f_row9_col6, #T_a9e3f_row9_col7, #T_a9e3f_row9_col8 {\n",
       "  background-color: lightcoral;\n",
       "}\n",
       "</style>\n",
       "<table id=\"T_a9e3f\">\n",
       "  <thead>\n",
       "    <tr>\n",
       "      <th class=\"blank level0\" >&nbsp;</th>\n",
       "      <th id=\"T_a9e3f_level0_col0\" class=\"col_heading level0 col0\" >Uruguay 0</th>\n",
       "      <th id=\"T_a9e3f_level0_col1\" class=\"col_heading level0 col1\" >Uruguay 1</th>\n",
       "      <th id=\"T_a9e3f_level0_col2\" class=\"col_heading level0 col2\" >Uruguay 2</th>\n",
       "      <th id=\"T_a9e3f_level0_col3\" class=\"col_heading level0 col3\" >Uruguay 3</th>\n",
       "      <th id=\"T_a9e3f_level0_col4\" class=\"col_heading level0 col4\" >Uruguay 4</th>\n",
       "      <th id=\"T_a9e3f_level0_col5\" class=\"col_heading level0 col5\" >Uruguay 5</th>\n",
       "      <th id=\"T_a9e3f_level0_col6\" class=\"col_heading level0 col6\" >Uruguay 6</th>\n",
       "      <th id=\"T_a9e3f_level0_col7\" class=\"col_heading level0 col7\" >Uruguay 7</th>\n",
       "      <th id=\"T_a9e3f_level0_col8\" class=\"col_heading level0 col8\" >Uruguay 8</th>\n",
       "      <th id=\"T_a9e3f_level0_col9\" class=\"col_heading level0 col9\" >Uruguay 9</th>\n",
       "    </tr>\n",
       "  </thead>\n",
       "  <tbody>\n",
       "    <tr>\n",
       "      <th id=\"T_a9e3f_level0_row0\" class=\"row_heading level0 row0\" >Argentina 0</th>\n",
       "      <td id=\"T_a9e3f_row0_col0\" class=\"data row0 col0\" >4.69%</td>\n",
       "      <td id=\"T_a9e3f_row0_col1\" class=\"data row0 col1\" >9.05%</td>\n",
       "      <td id=\"T_a9e3f_row0_col2\" class=\"data row0 col2\" >8.73%</td>\n",
       "      <td id=\"T_a9e3f_row0_col3\" class=\"data row0 col3\" >5.62%</td>\n",
       "      <td id=\"T_a9e3f_row0_col4\" class=\"data row0 col4\" >2.71%</td>\n",
       "      <td id=\"T_a9e3f_row0_col5\" class=\"data row0 col5\" >1.05%</td>\n",
       "      <td id=\"T_a9e3f_row0_col6\" class=\"data row0 col6\" >0.34%</td>\n",
       "      <td id=\"T_a9e3f_row0_col7\" class=\"data row0 col7\" >0.09%</td>\n",
       "      <td id=\"T_a9e3f_row0_col8\" class=\"data row0 col8\" >0.02%</td>\n",
       "      <td id=\"T_a9e3f_row0_col9\" class=\"data row0 col9\" >0.00%</td>\n",
       "    </tr>\n",
       "    <tr>\n",
       "      <th id=\"T_a9e3f_level0_row1\" class=\"row_heading level0 row1\" >Argentina 1</th>\n",
       "      <td id=\"T_a9e3f_row1_col0\" class=\"data row1 col0\" >5.30%</td>\n",
       "      <td id=\"T_a9e3f_row1_col1\" class=\"data row1 col1\" >10.22%</td>\n",
       "      <td id=\"T_a9e3f_row1_col2\" class=\"data row1 col2\" >9.87%</td>\n",
       "      <td id=\"T_a9e3f_row1_col3\" class=\"data row1 col3\" >6.35%</td>\n",
       "      <td id=\"T_a9e3f_row1_col4\" class=\"data row1 col4\" >3.06%</td>\n",
       "      <td id=\"T_a9e3f_row1_col5\" class=\"data row1 col5\" >1.18%</td>\n",
       "      <td id=\"T_a9e3f_row1_col6\" class=\"data row1 col6\" >0.38%</td>\n",
       "      <td id=\"T_a9e3f_row1_col7\" class=\"data row1 col7\" >0.10%</td>\n",
       "      <td id=\"T_a9e3f_row1_col8\" class=\"data row1 col8\" >0.03%</td>\n",
       "      <td id=\"T_a9e3f_row1_col9\" class=\"data row1 col9\" >0.01%</td>\n",
       "    </tr>\n",
       "    <tr>\n",
       "      <th id=\"T_a9e3f_level0_row2\" class=\"row_heading level0 row2\" >Argentina 2</th>\n",
       "      <td id=\"T_a9e3f_row2_col0\" class=\"data row2 col0\" >2.99%</td>\n",
       "      <td id=\"T_a9e3f_row2_col1\" class=\"data row2 col1\" >5.78%</td>\n",
       "      <td id=\"T_a9e3f_row2_col2\" class=\"data row2 col2\" >5.58%</td>\n",
       "      <td id=\"T_a9e3f_row2_col3\" class=\"data row2 col3\" >3.59%</td>\n",
       "      <td id=\"T_a9e3f_row2_col4\" class=\"data row2 col4\" >1.73%</td>\n",
       "      <td id=\"T_a9e3f_row2_col5\" class=\"data row2 col5\" >0.67%</td>\n",
       "      <td id=\"T_a9e3f_row2_col6\" class=\"data row2 col6\" >0.22%</td>\n",
       "      <td id=\"T_a9e3f_row2_col7\" class=\"data row2 col7\" >0.06%</td>\n",
       "      <td id=\"T_a9e3f_row2_col8\" class=\"data row2 col8\" >0.01%</td>\n",
       "      <td id=\"T_a9e3f_row2_col9\" class=\"data row2 col9\" >0.00%</td>\n",
       "    </tr>\n",
       "    <tr>\n",
       "      <th id=\"T_a9e3f_level0_row3\" class=\"row_heading level0 row3\" >Argentina 3</th>\n",
       "      <td id=\"T_a9e3f_row3_col0\" class=\"data row3 col0\" >1.13%</td>\n",
       "      <td id=\"T_a9e3f_row3_col1\" class=\"data row3 col1\" >2.18%</td>\n",
       "      <td id=\"T_a9e3f_row3_col2\" class=\"data row3 col2\" >2.10%</td>\n",
       "      <td id=\"T_a9e3f_row3_col3\" class=\"data row3 col3\" >1.35%</td>\n",
       "      <td id=\"T_a9e3f_row3_col4\" class=\"data row3 col4\" >0.65%</td>\n",
       "      <td id=\"T_a9e3f_row3_col5\" class=\"data row3 col5\" >0.25%</td>\n",
       "      <td id=\"T_a9e3f_row3_col6\" class=\"data row3 col6\" >0.08%</td>\n",
       "      <td id=\"T_a9e3f_row3_col7\" class=\"data row3 col7\" >0.02%</td>\n",
       "      <td id=\"T_a9e3f_row3_col8\" class=\"data row3 col8\" >0.01%</td>\n",
       "      <td id=\"T_a9e3f_row3_col9\" class=\"data row3 col9\" >0.00%</td>\n",
       "    </tr>\n",
       "    <tr>\n",
       "      <th id=\"T_a9e3f_level0_row4\" class=\"row_heading level0 row4\" >Argentina 4</th>\n",
       "      <td id=\"T_a9e3f_row4_col0\" class=\"data row4 col0\" >0.32%</td>\n",
       "      <td id=\"T_a9e3f_row4_col1\" class=\"data row4 col1\" >0.61%</td>\n",
       "      <td id=\"T_a9e3f_row4_col2\" class=\"data row4 col2\" >0.59%</td>\n",
       "      <td id=\"T_a9e3f_row4_col3\" class=\"data row4 col3\" >0.38%</td>\n",
       "      <td id=\"T_a9e3f_row4_col4\" class=\"data row4 col4\" >0.18%</td>\n",
       "      <td id=\"T_a9e3f_row4_col5\" class=\"data row4 col5\" >0.07%</td>\n",
       "      <td id=\"T_a9e3f_row4_col6\" class=\"data row4 col6\" >0.02%</td>\n",
       "      <td id=\"T_a9e3f_row4_col7\" class=\"data row4 col7\" >0.01%</td>\n",
       "      <td id=\"T_a9e3f_row4_col8\" class=\"data row4 col8\" >0.00%</td>\n",
       "      <td id=\"T_a9e3f_row4_col9\" class=\"data row4 col9\" >0.00%</td>\n",
       "    </tr>\n",
       "    <tr>\n",
       "      <th id=\"T_a9e3f_level0_row5\" class=\"row_heading level0 row5\" >Argentina 5</th>\n",
       "      <td id=\"T_a9e3f_row5_col0\" class=\"data row5 col0\" >0.07%</td>\n",
       "      <td id=\"T_a9e3f_row5_col1\" class=\"data row5 col1\" >0.14%</td>\n",
       "      <td id=\"T_a9e3f_row5_col2\" class=\"data row5 col2\" >0.13%</td>\n",
       "      <td id=\"T_a9e3f_row5_col3\" class=\"data row5 col3\" >0.09%</td>\n",
       "      <td id=\"T_a9e3f_row5_col4\" class=\"data row5 col4\" >0.04%</td>\n",
       "      <td id=\"T_a9e3f_row5_col5\" class=\"data row5 col5\" >0.02%</td>\n",
       "      <td id=\"T_a9e3f_row5_col6\" class=\"data row5 col6\" >0.01%</td>\n",
       "      <td id=\"T_a9e3f_row5_col7\" class=\"data row5 col7\" >0.00%</td>\n",
       "      <td id=\"T_a9e3f_row5_col8\" class=\"data row5 col8\" >0.00%</td>\n",
       "      <td id=\"T_a9e3f_row5_col9\" class=\"data row5 col9\" >0.00%</td>\n",
       "    </tr>\n",
       "    <tr>\n",
       "      <th id=\"T_a9e3f_level0_row6\" class=\"row_heading level0 row6\" >Argentina 6</th>\n",
       "      <td id=\"T_a9e3f_row6_col0\" class=\"data row6 col0\" >0.01%</td>\n",
       "      <td id=\"T_a9e3f_row6_col1\" class=\"data row6 col1\" >0.03%</td>\n",
       "      <td id=\"T_a9e3f_row6_col2\" class=\"data row6 col2\" >0.03%</td>\n",
       "      <td id=\"T_a9e3f_row6_col3\" class=\"data row6 col3\" >0.02%</td>\n",
       "      <td id=\"T_a9e3f_row6_col4\" class=\"data row6 col4\" >0.01%</td>\n",
       "      <td id=\"T_a9e3f_row6_col5\" class=\"data row6 col5\" >0.00%</td>\n",
       "      <td id=\"T_a9e3f_row6_col6\" class=\"data row6 col6\" >0.00%</td>\n",
       "      <td id=\"T_a9e3f_row6_col7\" class=\"data row6 col7\" >0.00%</td>\n",
       "      <td id=\"T_a9e3f_row6_col8\" class=\"data row6 col8\" >0.00%</td>\n",
       "      <td id=\"T_a9e3f_row6_col9\" class=\"data row6 col9\" >0.00%</td>\n",
       "    </tr>\n",
       "    <tr>\n",
       "      <th id=\"T_a9e3f_level0_row7\" class=\"row_heading level0 row7\" >Argentina 7</th>\n",
       "      <td id=\"T_a9e3f_row7_col0\" class=\"data row7 col0\" >0.00%</td>\n",
       "      <td id=\"T_a9e3f_row7_col1\" class=\"data row7 col1\" >0.00%</td>\n",
       "      <td id=\"T_a9e3f_row7_col2\" class=\"data row7 col2\" >0.00%</td>\n",
       "      <td id=\"T_a9e3f_row7_col3\" class=\"data row7 col3\" >0.00%</td>\n",
       "      <td id=\"T_a9e3f_row7_col4\" class=\"data row7 col4\" >0.00%</td>\n",
       "      <td id=\"T_a9e3f_row7_col5\" class=\"data row7 col5\" >0.00%</td>\n",
       "      <td id=\"T_a9e3f_row7_col6\" class=\"data row7 col6\" >0.00%</td>\n",
       "      <td id=\"T_a9e3f_row7_col7\" class=\"data row7 col7\" >0.00%</td>\n",
       "      <td id=\"T_a9e3f_row7_col8\" class=\"data row7 col8\" >0.00%</td>\n",
       "      <td id=\"T_a9e3f_row7_col9\" class=\"data row7 col9\" >0.00%</td>\n",
       "    </tr>\n",
       "    <tr>\n",
       "      <th id=\"T_a9e3f_level0_row8\" class=\"row_heading level0 row8\" >Argentina 8</th>\n",
       "      <td id=\"T_a9e3f_row8_col0\" class=\"data row8 col0\" >0.00%</td>\n",
       "      <td id=\"T_a9e3f_row8_col1\" class=\"data row8 col1\" >0.00%</td>\n",
       "      <td id=\"T_a9e3f_row8_col2\" class=\"data row8 col2\" >0.00%</td>\n",
       "      <td id=\"T_a9e3f_row8_col3\" class=\"data row8 col3\" >0.00%</td>\n",
       "      <td id=\"T_a9e3f_row8_col4\" class=\"data row8 col4\" >0.00%</td>\n",
       "      <td id=\"T_a9e3f_row8_col5\" class=\"data row8 col5\" >0.00%</td>\n",
       "      <td id=\"T_a9e3f_row8_col6\" class=\"data row8 col6\" >0.00%</td>\n",
       "      <td id=\"T_a9e3f_row8_col7\" class=\"data row8 col7\" >0.00%</td>\n",
       "      <td id=\"T_a9e3f_row8_col8\" class=\"data row8 col8\" >0.00%</td>\n",
       "      <td id=\"T_a9e3f_row8_col9\" class=\"data row8 col9\" >0.00%</td>\n",
       "    </tr>\n",
       "    <tr>\n",
       "      <th id=\"T_a9e3f_level0_row9\" class=\"row_heading level0 row9\" >Argentina 9</th>\n",
       "      <td id=\"T_a9e3f_row9_col0\" class=\"data row9 col0\" >0.00%</td>\n",
       "      <td id=\"T_a9e3f_row9_col1\" class=\"data row9 col1\" >0.00%</td>\n",
       "      <td id=\"T_a9e3f_row9_col2\" class=\"data row9 col2\" >0.00%</td>\n",
       "      <td id=\"T_a9e3f_row9_col3\" class=\"data row9 col3\" >0.00%</td>\n",
       "      <td id=\"T_a9e3f_row9_col4\" class=\"data row9 col4\" >0.00%</td>\n",
       "      <td id=\"T_a9e3f_row9_col5\" class=\"data row9 col5\" >0.00%</td>\n",
       "      <td id=\"T_a9e3f_row9_col6\" class=\"data row9 col6\" >0.00%</td>\n",
       "      <td id=\"T_a9e3f_row9_col7\" class=\"data row9 col7\" >0.00%</td>\n",
       "      <td id=\"T_a9e3f_row9_col8\" class=\"data row9 col8\" >0.00%</td>\n",
       "      <td id=\"T_a9e3f_row9_col9\" class=\"data row9 col9\" >0.00%</td>\n",
       "    </tr>\n",
       "  </tbody>\n",
       "</table>\n"
      ],
      "text/plain": [
       "<pandas.io.formats.style.Styler at 0x7f111260a530>"
      ]
     },
     "execution_count": 35,
     "metadata": {},
     "output_type": "execute_result"
    }
   ],
   "source": [
    "res_df.style.format(\"{:.2%}\").apply(style_specific_cells, axis=None)\n"
   ]
  },
  {
   "cell_type": "code",
   "execution_count": 36,
   "metadata": {},
   "outputs": [],
   "source": [
    "def find_probs(poisson_home, poisson_away):\n",
    "    home_probs = []\n",
    "    away_probs = []\n",
    "    \n",
    "    draw_probs = []\n",
    "    \n",
    "    for i in range(len(poisson_home)):\n",
    "        for j in range(len(poisson_away)):\n",
    "            res_prob = poisson_home[i]*poisson_away[j]\n",
    "            \n",
    "            if i == j:\n",
    "                draw_probs.append(res_prob)\n",
    "            elif i > j:\n",
    "                home_probs.append(res_prob)\n",
    "            elif j > i:\n",
    "                away_probs.append(res_prob)\n",
    "            #res_track[j][i] = res_prob\n",
    "    \n",
    "    \n",
    "    return sum(home_probs), sum(draw_probs), sum(away_probs), poisson_home.tolist().index(max(poisson_home.tolist())), poisson_away.tolist().index(max(poisson_away.tolist()))"
   ]
  },
  {
   "cell_type": "code",
   "execution_count": 37,
   "metadata": {},
   "outputs": [],
   "source": [
    "gw, draw, sw, g1, g2 = find_probs(poisson_probs_g, poisson_probs_s)\n"
   ]
  },
  {
   "cell_type": "code",
   "execution_count": 38,
   "metadata": {},
   "outputs": [
    {
     "name": "stdout",
     "output_type": "stream",
     "text": [
      "Uruguay Wins: 56.00%\n",
      "Draw: 22.04%\n",
      "Argentina Wins: 21.96%\n"
     ]
    }
   ],
   "source": [
    "print(f\"Uruguay Wins: {gw:.2%}\")\n",
    "print(f\"Draw: {draw:.2%}\")\n",
    "print(f\"Argentina Wins: {sw:.2%}\")"
   ]
  }
 ],
 "metadata": {
  "kernelspec": {
   "display_name": "Python 3",
   "language": "python",
   "name": "python3"
  },
  "language_info": {
   "codemirror_mode": {
    "name": "ipython",
    "version": 3
   },
   "file_extension": ".py",
   "mimetype": "text/x-python",
   "name": "python",
   "nbconvert_exporter": "python",
   "pygments_lexer": "ipython3",
   "version": "3.10.12"
  }
 },
 "nbformat": 4,
 "nbformat_minor": 2
}
